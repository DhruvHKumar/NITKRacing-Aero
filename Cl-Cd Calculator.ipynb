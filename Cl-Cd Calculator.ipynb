{
 "cells": [
  {
   "cell_type": "code",
   "execution_count": 6,
   "metadata": {},
   "outputs": [
    {
     "name": "stdout",
     "output_type": "stream",
     "text": [
      "Enter the lift force=  2\n",
      "Enter the drag force=  2\n",
      "Enter the value for frontal area-  2\n",
      "Enter the value for Top projected area-  2\n",
      "Enter the vale for density (For coimbatore its 1.104)- 2\n",
      "Enter the velocity=  2\n",
      "The Cd is \n",
      "0.25\n",
      "The Cl is \n",
      "0.25\n"
     ]
    }
   ],
   "source": [
    "import math\n",
    "\n",
    "lift=float(input(\"Enter the lift force=  \"))\n",
    "drag=float(input(\"Enter the drag force=  \"))\n",
    "\n",
    "f_a=float(input(\"Enter the value for frontal area-  \"))\n",
    "t_a=float(input(\"Enter the value for Top projected area-  \"))\n",
    "p=float(input(\"Enter the vale for density (For coimbatore its 1.104)- \"))\n",
    "v=float(input(\"Enter the velocity=  \"))\n",
    "v2= v ** 2\n",
    "\n",
    "#Here is the way how we solve it\n",
    "\n",
    "Cd= (drag)/(0.5* f_a * p * v2 )\n",
    "Cl= (lift)/(0.5* t_a * p * v2 )\n",
    "\n",
    "print(\"The Cd is \")\n",
    "print(Cd)\n",
    "print(\"The Cl is \")\n",
    "print(Cl)\n"
   ]
  },
  {
   "cell_type": "markdown",
   "metadata": {},
   "source": []
  },
  {
   "cell_type": "code",
   "execution_count": null,
   "metadata": {},
   "outputs": [],
   "source": []
  },
  {
   "cell_type": "code",
   "execution_count": null,
   "metadata": {},
   "outputs": [],
   "source": []
  },
  {
   "cell_type": "code",
   "execution_count": null,
   "metadata": {},
   "outputs": [],
   "source": []
  },
  {
   "cell_type": "code",
   "execution_count": null,
   "metadata": {},
   "outputs": [],
   "source": []
  },
  {
   "cell_type": "code",
   "execution_count": null,
   "metadata": {},
   "outputs": [],
   "source": []
  }
 ],
 "metadata": {
  "kernelspec": {
   "display_name": "Python 3",
   "language": "python",
   "name": "python3"
  },
  "language_info": {
   "codemirror_mode": {
    "name": "ipython",
    "version": 3
   },
   "file_extension": ".py",
   "mimetype": "text/x-python",
   "name": "python",
   "nbconvert_exporter": "python",
   "pygments_lexer": "ipython3",
   "version": "3.7.4"
  }
 },
 "nbformat": 4,
 "nbformat_minor": 2
}
